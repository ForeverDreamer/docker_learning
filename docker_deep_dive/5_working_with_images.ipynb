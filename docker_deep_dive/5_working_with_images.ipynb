{
 "cells": [
  {
   "cell_type": "markdown",
   "metadata": {},
   "source": [
    "# 1 Images in Detail"
   ]
  },
  {
   "cell_type": "code",
   "execution_count": 1,
   "metadata": {},
   "outputs": [
    {
     "name": "stdout",
     "output_type": "stream",
     "text": [
      "Using default tag: latest\n",
      "latest: Pulling from library/redis\n",
      "\n",
      "\u001b[1B\n",
      "\u001b[1B\n",
      "\u001b[1B\n",
      "\u001b[1B\n",
      "\u001b[1B\n",
      "\u001b[1BDigest: sha256:000339fb57e0ddf2d48d72f3341e47a8ca3b1beae9bdcb25a96323095b72a79b\n",
      "Status: Downloaded newer image for redis:latest\n"
     ]
    }
   ],
   "source": [
    "!docker image pull redis"
   ]
  },
  {
   "cell_type": "code",
   "execution_count": 2,
   "metadata": {},
   "outputs": [
    {
     "name": "stdout",
     "output_type": "stream",
     "text": [
      "Containers: 0\n",
      " Running: 0\n",
      " Paused: 0\n",
      " Stopped: 0\n",
      "Images: 1\n",
      "Server Version: 18.09.2\n",
      "Storage Driver: overlay2\n",
      " Backing Filesystem: extfs\n",
      " Supports d_type: true\n",
      " Native Overlay Diff: true\n",
      "Logging Driver: json-file\n",
      "Cgroup Driver: cgroupfs\n",
      "Plugins:\n",
      " Volume: local\n",
      " Network: bridge host macvlan null overlay\n",
      " Log: awslogs fluentd gcplogs gelf journald json-file local logentries splunk syslog\n",
      "Swarm: inactive\n",
      "Runtimes: runc\n",
      "Default Runtime: runc\n",
      "Init Binary: docker-init\n",
      "containerd version: 9754871865f7fe2f4e74d43e2fc7ccd237edcbce\n",
      "runc version: 09c8266bf2fcf9519a651b04ae54c967b9ab86ec\n",
      "init version: fec3683\n",
      "Security Options:\n",
      " seccomp\n",
      "  Profile: default\n",
      "Kernel Version: 4.9.125-linuxkit\n",
      "Operating System: Docker for Mac\n",
      "OSType: linux\n",
      "Architecture: x86_64\n",
      "CPUs: 2\n",
      "Total Memory: 1.952GiB\n",
      "Name: linuxkit-025000000001\n",
      "ID: FAMS:PEPH:CZH3:EYM6:SRIZ:I3JI:WIAG:F6Z5:RZSM:4H5R:3BWL:OLLV\n",
      "Docker Root Dir: /var/lib/docker\n",
      "Debug Mode (client): false\n",
      "Debug Mode (server): true\n",
      " File Descriptors: 43\n",
      " Goroutines: 87\n",
      " System Time: 2019-04-15T03:27:27.2845695Z\n",
      " EventsListeners: 2\n",
      "HTTP Proxy: gateway.docker.internal:3128\n",
      "HTTPS Proxy: gateway.docker.internal:3129\n",
      "Registry: https://index.docker.io/v1/\n",
      "Labels:\n",
      "Experimental: false\n",
      "Insecure Registries:\n",
      " 127.0.0.0/8\n",
      "Live Restore Enabled: false\n",
      "Product License: Community Engine\n",
      "\n"
     ]
    }
   ],
   "source": [
    "!docker system info"
   ]
  },
  {
   "cell_type": "code",
   "execution_count": 3,
   "metadata": {},
   "outputs": [
    {
     "name": "stdout",
     "output_type": "stream",
     "text": [
      "REPOSITORY          TAG                 IMAGE ID            CREATED             SIZE\n",
      "redis               latest              a55fbf438dfd        2 weeks ago         95MB\n"
     ]
    }
   ],
   "source": [
    "!docker image ls"
   ]
  },
  {
   "cell_type": "code",
   "execution_count": 4,
   "metadata": {},
   "outputs": [
    {
     "name": "stdout",
     "output_type": "stream",
     "text": [
      "REPOSITORY          TAG                 DIGEST                                                                    IMAGE ID            CREATED             SIZE\n",
      "redis               latest              sha256:000339fb57e0ddf2d48d72f3341e47a8ca3b1beae9bdcb25a96323095b72a79b   a55fbf438dfd        2 weeks ago         95MB\n"
     ]
    }
   ],
   "source": [
    "!docker image ls --digests"
   ]
  },
  {
   "cell_type": "code",
   "execution_count": 5,
   "metadata": {},
   "outputs": [
    {
     "name": "stdout",
     "output_type": "stream",
     "text": [
      "IMAGE               CREATED             CREATED BY                                      SIZE                COMMENT\n",
      "a55fbf438dfd        2 weeks ago         /bin/sh -c #(nop)  CMD [\"redis-server\"]         0B                  \n",
      "<missing>           2 weeks ago         /bin/sh -c #(nop)  EXPOSE 6379                  0B                  \n",
      "<missing>           2 weeks ago         /bin/sh -c #(nop)  ENTRYPOINT [\"docker-entry…   0B                  \n",
      "<missing>           2 weeks ago         /bin/sh -c #(nop) COPY file:df205a0ef6e6df89…   374B                \n",
      "<missing>           2 weeks ago         /bin/sh -c #(nop) WORKDIR /data                 0B                  \n",
      "<missing>           2 weeks ago         /bin/sh -c #(nop)  VOLUME [/data]               0B                  \n",
      "<missing>           2 weeks ago         /bin/sh -c mkdir /data && chown redis:redis …   0B                  \n",
      "<missing>           2 weeks ago         /bin/sh -c set -ex;   buildDeps='   ca-certi…   36.4MB              \n",
      "<missing>           2 weeks ago         /bin/sh -c #(nop)  ENV REDIS_DOWNLOAD_SHA=3c…   0B                  \n",
      "<missing>           2 weeks ago         /bin/sh -c #(nop)  ENV REDIS_DOWNLOAD_URL=ht…   0B                  \n",
      "<missing>           2 weeks ago         /bin/sh -c #(nop)  ENV REDIS_VERSION=5.0.4      0B                  \n",
      "<missing>           2 weeks ago         /bin/sh -c set -ex;   fetchDeps=\"   ca-certi…   3MB                 \n",
      "<missing>           2 weeks ago         /bin/sh -c #(nop)  ENV GOSU_VERSION=1.10        0B                  \n",
      "<missing>           2 weeks ago         /bin/sh -c groupadd -r redis && useradd -r -…   329kB               \n",
      "<missing>           2 weeks ago         /bin/sh -c #(nop)  CMD [\"bash\"]                 0B                  \n",
      "<missing>           2 weeks ago         /bin/sh -c #(nop) ADD file:4fc310c0cb879c876…   55.3MB              \n"
     ]
    }
   ],
   "source": [
    "!docker history redis"
   ]
  },
  {
   "cell_type": "code",
   "execution_count": 6,
   "metadata": {},
   "outputs": [
    {
     "name": "stdout",
     "output_type": "stream",
     "text": [
      "[\n",
      "    {\n",
      "        \"Id\": \"sha256:a55fbf438dfd878424c402e365ef3d80c634f07d0f5832193880ee1b95626e4e\",\n",
      "        \"RepoTags\": [\n",
      "            \"redis:latest\"\n",
      "        ],\n",
      "        \"RepoDigests\": [\n",
      "            \"redis@sha256:000339fb57e0ddf2d48d72f3341e47a8ca3b1beae9bdcb25a96323095b72a79b\"\n",
      "        ],\n",
      "        \"Parent\": \"\",\n",
      "        \"Comment\": \"\",\n",
      "        \"Created\": \"2019-03-27T00:49:00.123917534Z\",\n",
      "        \"Container\": \"6113cb2d4e6d2d4f375b72c8f5d5c953e3e7f4c22bfad42d5dd0aabf163b79bd\",\n",
      "        \"ContainerConfig\": {\n",
      "            \"Hostname\": \"6113cb2d4e6d\",\n",
      "            \"Domainname\": \"\",\n",
      "            \"User\": \"\",\n",
      "            \"AttachStdin\": false,\n",
      "            \"AttachStdout\": false,\n",
      "            \"AttachStderr\": false,\n",
      "            \"ExposedPorts\": {\n",
      "                \"6379/tcp\": {}\n",
      "            },\n",
      "            \"Tty\": false,\n",
      "            \"OpenStdin\": false,\n",
      "            \"StdinOnce\": false,\n",
      "            \"Env\": [\n",
      "                \"PATH=/usr/local/sbin:/usr/local/bin:/usr/sbin:/usr/bin:/sbin:/bin\",\n",
      "                \"GOSU_VERSION=1.10\",\n",
      "                \"REDIS_VERSION=5.0.4\",\n",
      "                \"REDIS_DOWNLOAD_URL=http://download.redis.io/releases/redis-5.0.4.tar.gz\",\n",
      "                \"REDIS_DOWNLOAD_SHA=3ce9ceff5a23f60913e1573f6dfcd4aa53b42d4a2789e28fa53ec2bd28c987dd\"\n",
      "            ],\n",
      "            \"Cmd\": [\n",
      "                \"/bin/sh\",\n",
      "                \"-c\",\n",
      "                \"#(nop) \",\n",
      "                \"CMD [\\\"redis-server\\\"]\"\n",
      "            ],\n",
      "            \"ArgsEscaped\": true,\n",
      "            \"Image\": \"sha256:09608ebc43dc3c30d706ecbf6c2d83ee302f3e57687f823f2a97058fde0ef101\",\n",
      "            \"Volumes\": {\n",
      "                \"/data\": {}\n",
      "            },\n",
      "            \"WorkingDir\": \"/data\",\n",
      "            \"Entrypoint\": [\n",
      "                \"docker-entrypoint.sh\"\n",
      "            ],\n",
      "            \"OnBuild\": null,\n",
      "            \"Labels\": {}\n",
      "        },\n",
      "        \"DockerVersion\": \"18.06.1-ce\",\n",
      "        \"Author\": \"\",\n",
      "        \"Config\": {\n",
      "            \"Hostname\": \"\",\n",
      "            \"Domainname\": \"\",\n",
      "            \"User\": \"\",\n",
      "            \"AttachStdin\": false,\n",
      "            \"AttachStdout\": false,\n",
      "            \"AttachStderr\": false,\n",
      "            \"ExposedPorts\": {\n",
      "                \"6379/tcp\": {}\n",
      "            },\n",
      "            \"Tty\": false,\n",
      "            \"OpenStdin\": false,\n",
      "            \"StdinOnce\": false,\n",
      "            \"Env\": [\n",
      "                \"PATH=/usr/local/sbin:/usr/local/bin:/usr/sbin:/usr/bin:/sbin:/bin\",\n",
      "                \"GOSU_VERSION=1.10\",\n",
      "                \"REDIS_VERSION=5.0.4\",\n",
      "                \"REDIS_DOWNLOAD_URL=http://download.redis.io/releases/redis-5.0.4.tar.gz\",\n",
      "                \"REDIS_DOWNLOAD_SHA=3ce9ceff5a23f60913e1573f6dfcd4aa53b42d4a2789e28fa53ec2bd28c987dd\"\n",
      "            ],\n",
      "            \"Cmd\": [\n",
      "                \"redis-server\"\n",
      "            ],\n",
      "            \"ArgsEscaped\": true,\n",
      "            \"Image\": \"sha256:09608ebc43dc3c30d706ecbf6c2d83ee302f3e57687f823f2a97058fde0ef101\",\n",
      "            \"Volumes\": {\n",
      "                \"/data\": {}\n",
      "            },\n",
      "            \"WorkingDir\": \"/data\",\n",
      "            \"Entrypoint\": [\n",
      "                \"docker-entrypoint.sh\"\n",
      "            ],\n",
      "            \"OnBuild\": null,\n",
      "            \"Labels\": null\n",
      "        },\n",
      "        \"Architecture\": \"amd64\",\n",
      "        \"Os\": \"linux\",\n",
      "        \"Size\": 95000962,\n",
      "        \"VirtualSize\": 95000962,\n",
      "        \"GraphDriver\": {\n",
      "            \"Data\": {\n",
      "                \"LowerDir\": \"/var/lib/docker/overlay2/c1d763c935686c78f0ba7c611cf1187cd9e05ae6886da6fdce0c926f5a6faddf/diff:/var/lib/docker/overlay2/9ce875e1688c431b9b2986bf8bfe682f4cc279572f3e0bf9ed2bfa634ea34676/diff:/var/lib/docker/overlay2/8b29dda1c471583ce43d1dbb9668c692cd180de7fc58dafd748e9e7e15bd7ddb/diff:/var/lib/docker/overlay2/d156f0f158a15cbe678059861dc0defe706e98ce3922e714c6e578e66a3de83e/diff:/var/lib/docker/overlay2/613531ca676c7d56eaaf492ba500cb07a2479b6ab5511e3a0a9c4f81fe516fd7/diff\",\n",
      "                \"MergedDir\": \"/var/lib/docker/overlay2/887a642eac86266e1506fd2201acd032c26e7ceec2e5156842905b8e60d8919a/merged\",\n",
      "                \"UpperDir\": \"/var/lib/docker/overlay2/887a642eac86266e1506fd2201acd032c26e7ceec2e5156842905b8e60d8919a/diff\",\n",
      "                \"WorkDir\": \"/var/lib/docker/overlay2/887a642eac86266e1506fd2201acd032c26e7ceec2e5156842905b8e60d8919a/work\"\n",
      "            },\n",
      "            \"Name\": \"overlay2\"\n",
      "        },\n",
      "        \"RootFS\": {\n",
      "            \"Type\": \"layers\",\n",
      "            \"Layers\": [\n",
      "                \"sha256:5dacd731af1b0386ead06c8b1feff9f65d9e0bdfec032d2cd0bc03690698feda\",\n",
      "                \"sha256:b52995330c04002c33243b1670ba11921564dcc58a69af275ded1ac9df1aac4e\",\n",
      "                \"sha256:1540700d9a4fa5405b9f81abda35fd97de8c9961b861829a879ceca15a4a82ff\",\n",
      "                \"sha256:f3918e45d85b758de3186c25c57c0bbdb99523bb651fc9856448d284e75940b1\",\n",
      "                \"sha256:290c0f1ac500d5329070a58dad2ced9714f06a4a5cbabaab7bc439f9dae8ae1d\",\n",
      "                \"sha256:f02e80b7746e03cffca22161cfc746c09521d138b138e34096a629abec7d3347\"\n",
      "            ]\n",
      "        },\n",
      "        \"Metadata\": {\n",
      "            \"LastTagTime\": \"0001-01-01T00:00:00Z\"\n",
      "        }\n",
      "    }\n",
      "]\n"
     ]
    }
   ],
   "source": [
    "!docker image inspect redis"
   ]
  },
  {
   "cell_type": "markdown",
   "metadata": {},
   "source": [
    "# 2 Registries"
   ]
  },
  {
   "cell_type": "code",
   "execution_count": 12,
   "metadata": {},
   "outputs": [
    {
     "name": "stdout",
     "output_type": "stream",
     "text": [
      "5.0.4: Pulling from library/redis\n",
      "Digest: sha256:000339fb57e0ddf2d48d72f3341e47a8ca3b1beae9bdcb25a96323095b72a79b\n",
      "Status: Downloaded newer image for redis:5.0.4\n"
     ]
    }
   ],
   "source": [
    "!docker image pull docker.io/redis:5.0.4"
   ]
  },
  {
   "cell_type": "code",
   "execution_count": 15,
   "metadata": {},
   "outputs": [
    {
     "name": "stdout",
     "output_type": "stream",
     "text": [
      "REPOSITORY          TAG                 IMAGE ID            CREATED             SIZE\n",
      "redis               5.0.4               a55fbf438dfd        2 weeks ago         95MB\n",
      "redis               latest              a55fbf438dfd        2 weeks ago         95MB\n"
     ]
    }
   ],
   "source": [
    "!docker image ls  # 当前的最新版本latest就是5.0.4"
   ]
  },
  {
   "cell_type": "code",
   "execution_count": 14,
   "metadata": {},
   "outputs": [
    {
     "name": "stdout",
     "output_type": "stream",
     "text": [
      "REPOSITORY          TAG                 DIGEST                                                                    IMAGE ID            CREATED             SIZE\n",
      "redis               5.0.4               sha256:000339fb57e0ddf2d48d72f3341e47a8ca3b1beae9bdcb25a96323095b72a79b   a55fbf438dfd        2 weeks ago         95MB\n",
      "redis               latest              sha256:000339fb57e0ddf2d48d72f3341e47a8ca3b1beae9bdcb25a96323095b72a79b   a55fbf438dfd        2 weeks ago         95MB\n"
     ]
    }
   ],
   "source": [
    "!docker image ls --digests"
   ]
  },
  {
   "cell_type": "code",
   "execution_count": null,
   "metadata": {},
   "outputs": [],
   "source": []
  }
 ],
 "metadata": {
  "kernelspec": {
   "display_name": "python_dev",
   "language": "python",
   "name": "python_dev"
  },
  "language_info": {
   "codemirror_mode": {
    "name": "ipython",
    "version": 3
   },
   "file_extension": ".py",
   "mimetype": "text/x-python",
   "name": "python",
   "nbconvert_exporter": "python",
   "pygments_lexer": "ipython3",
   "version": "3.7.3"
  }
 },
 "nbformat": 4,
 "nbformat_minor": 2
}

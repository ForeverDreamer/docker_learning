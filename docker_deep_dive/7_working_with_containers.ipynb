{
 "cells": [
  {
   "cell_type": "markdown",
   "metadata": {},
   "source": [
    "# 3 Diving Deeper"
   ]
  },
  {
   "cell_type": "code",
   "execution_count": 1,
   "metadata": {},
   "outputs": [
    {
     "name": "stdout",
     "output_type": "stream",
     "text": [
      "CONTAINER ID        IMAGE               COMMAND             CREATED             STATUS              PORTS               NAMES\n"
     ]
    }
   ],
   "source": [
    "!docker container ls"
   ]
  },
  {
   "cell_type": "code",
   "execution_count": 25,
   "metadata": {},
   "outputs": [],
   "source": [
    "# AppledeMacBook-Pro:psweb apple$ docker container run -it alpine sh\n",
    "# Unable to find image 'alpine:latest' locally\n",
    "# latest: Pulling from library/alpine\n",
    "# e7c96db7181b: Pull complete \n",
    "# Digest: sha256:769fddc7cc2f0a1c35abb2f91432e8beecf83916c421420e6a6da9f8975464b6\n",
    "# Status: Downloaded newer image for alpine:latest\n",
    "# / # ps -elf\n",
    "# PID   USER     TIME  COMMAND\n",
    "#     1 root      0:00 sh\n",
    "#     8 root      0:00 ps -elf\n",
    "# / # Ctrl+P+Q(退出容器，但没有结束当前进程，exit会结束当前进程，如果没有其它进程在运行就会停止容器)\n",
    "# AppledeMacBook-Pro:psweb apple$ "
   ]
  },
  {
   "cell_type": "code",
   "execution_count": 14,
   "metadata": {},
   "outputs": [
    {
     "name": "stdout",
     "output_type": "stream",
     "text": [
      "CONTAINER ID        IMAGE               COMMAND             CREATED             STATUS              PORTS               NAMES\n",
      "b6269d027ba3        alpine              \"sh\"                47 seconds ago      Up 46 seconds                           vibrant_heisenberg\n"
     ]
    }
   ],
   "source": [
    "!docker container ls"
   ]
  },
  {
   "cell_type": "code",
   "execution_count": 15,
   "metadata": {},
   "outputs": [
    {
     "name": "stdout",
     "output_type": "stream",
     "text": [
      "2e93d29284de67a61c4b14e4e858ded6a238e0a400931c022d06b65e189af768\n"
     ]
    }
   ],
   "source": [
    "!docker container run -d alpine sleep 1d  # sleep 1 day"
   ]
  },
  {
   "cell_type": "code",
   "execution_count": 16,
   "metadata": {},
   "outputs": [
    {
     "name": "stdout",
     "output_type": "stream",
     "text": [
      "CONTAINER ID        IMAGE               COMMAND             CREATED              STATUS              PORTS               NAMES\n",
      "2e93d29284de        alpine              \"sleep 1d\"          14 seconds ago       Up 13 seconds                           keen_noyce\n",
      "b6269d027ba3        alpine              \"sh\"                About a minute ago   Up About a minute                       vibrant_heisenberg\n"
     ]
    }
   ],
   "source": [
    "!docker container ls"
   ]
  },
  {
   "cell_type": "code",
   "execution_count": 17,
   "metadata": {},
   "outputs": [
    {
     "name": "stdout",
     "output_type": "stream",
     "text": [
      "2e93d29284de\n"
     ]
    }
   ],
   "source": [
    "!docker container stop 2e93d29284de"
   ]
  },
  {
   "cell_type": "code",
   "execution_count": 18,
   "metadata": {},
   "outputs": [
    {
     "name": "stdout",
     "output_type": "stream",
     "text": [
      "CONTAINER ID        IMAGE               COMMAND             CREATED              STATUS              PORTS               NAMES\n",
      "b6269d027ba3        alpine              \"sh\"                About a minute ago   Up About a minute                       vibrant_heisenberg\n"
     ]
    }
   ],
   "source": [
    "!docker container ls  # 查看所有正在运行的容器"
   ]
  },
  {
   "cell_type": "code",
   "execution_count": 19,
   "metadata": {},
   "outputs": [
    {
     "name": "stdout",
     "output_type": "stream",
     "text": [
      "CONTAINER ID        IMAGE               COMMAND             CREATED              STATUS                       PORTS               NAMES\n",
      "2e93d29284de        alpine              \"sleep 1d\"          55 seconds ago       Exited (137) 6 seconds ago                       keen_noyce\n",
      "b6269d027ba3        alpine              \"sh\"                About a minute ago   Up About a minute                                vibrant_heisenberg\n"
     ]
    }
   ],
   "source": [
    "!docker container ls -a  # 查看所有容器"
   ]
  },
  {
   "cell_type": "code",
   "execution_count": 20,
   "metadata": {},
   "outputs": [
    {
     "name": "stdout",
     "output_type": "stream",
     "text": [
      "2e93d29284de\n"
     ]
    }
   ],
   "source": [
    "!docker container start 2e93d29284de"
   ]
  },
  {
   "cell_type": "code",
   "execution_count": 21,
   "metadata": {},
   "outputs": [
    {
     "name": "stdout",
     "output_type": "stream",
     "text": [
      "CONTAINER ID        IMAGE               COMMAND             CREATED              STATUS              PORTS               NAMES\n",
      "2e93d29284de        alpine              \"sleep 1d\"          About a minute ago   Up 12 seconds                           keen_noyce\n",
      "b6269d027ba3        alpine              \"sh\"                2 minutes ago        Up 2 minutes                            vibrant_heisenberg\n"
     ]
    }
   ],
   "source": [
    "!docker container ls"
   ]
  },
  {
   "cell_type": "code",
   "execution_count": 22,
   "metadata": {},
   "outputs": [],
   "source": [
    "# AppledeMacBook-Pro:psweb apple$ docker container exec -it 2e93d29284de sh\n",
    "# / # \n",
    "# / # \n",
    "# / # ps -elf\n",
    "# PID   USER     TIME  COMMAND\n",
    "#     1 root      0:00 sleep 1d\n",
    "#     6 root      0:00 sh\n",
    "#    12 root      0:00 ps -elf\n",
    "# / # \n",
    "# / # \n",
    "# / # echo \"devops FTW\" > newfile\n",
    "# / # \n",
    "# / # \n",
    "# / # ls\n",
    "# bin      dev      etc      home     lib      media    mnt      newfile  opt      proc     root     run      sbin     srv      sys      tmp      usr      var\n",
    "# / # exit(结束sh进程, sleep 1d仍在运行, 所以容器不会停止)\n",
    "# AppledeMacBook-Pro:psweb apple$ "
   ]
  },
  {
   "cell_type": "code",
   "execution_count": 24,
   "metadata": {},
   "outputs": [
    {
     "name": "stdout",
     "output_type": "stream",
     "text": [
      "CONTAINER ID        IMAGE               COMMAND             CREATED             STATUS              PORTS               NAMES\n",
      "2e93d29284de        alpine              \"sleep 1d\"          6 minutes ago       Up 4 minutes                            keen_noyce\n",
      "b6269d027ba3        alpine              \"sh\"                7 minutes ago       Up 7 minutes                            vibrant_heisenberg\n"
     ]
    }
   ],
   "source": [
    "!docker container ls -a"
   ]
  },
  {
   "cell_type": "code",
   "execution_count": 26,
   "metadata": {},
   "outputs": [
    {
     "name": "stdout",
     "output_type": "stream",
     "text": [
      "2e93d29284de\n"
     ]
    }
   ],
   "source": [
    "!docker container stop 2e93d29284de"
   ]
  },
  {
   "cell_type": "code",
   "execution_count": 27,
   "metadata": {},
   "outputs": [
    {
     "name": "stdout",
     "output_type": "stream",
     "text": [
      "CONTAINER ID        IMAGE               COMMAND             CREATED             STATUS                        PORTS               NAMES\n",
      "2e93d29284de        alpine              \"sleep 1d\"          10 minutes ago      Exited (137) 11 seconds ago                       keen_noyce\n",
      "b6269d027ba3        alpine              \"sh\"                11 minutes ago      Up 11 minutes                                     vibrant_heisenberg\n"
     ]
    }
   ],
   "source": [
    "!docker container ls -a"
   ]
  },
  {
   "cell_type": "code",
   "execution_count": 28,
   "metadata": {},
   "outputs": [
    {
     "name": "stdout",
     "output_type": "stream",
     "text": [
      "2e93d29284de\n"
     ]
    }
   ],
   "source": [
    "!docker container start 2e93d29284de"
   ]
  },
  {
   "cell_type": "code",
   "execution_count": 29,
   "metadata": {},
   "outputs": [
    {
     "name": "stdout",
     "output_type": "stream",
     "text": [
      "CONTAINER ID        IMAGE               COMMAND             CREATED             STATUS              PORTS               NAMES\n",
      "2e93d29284de        alpine              \"sleep 1d\"          10 minutes ago      Up 6 seconds                            keen_noyce\n",
      "b6269d027ba3        alpine              \"sh\"                11 minutes ago      Up 11 minutes                           vibrant_heisenberg\n"
     ]
    }
   ],
   "source": [
    "!docker container ls -a"
   ]
  },
  {
   "cell_type": "code",
   "execution_count": 30,
   "metadata": {},
   "outputs": [
    {
     "name": "stdout",
     "output_type": "stream",
     "text": [
      "total 60\n",
      "drwxr-xr-x    2 root     root          4096 May  9 20:49 bin\n",
      "drwxr-xr-x    5 root     root           340 May 16 11:44 dev\n",
      "drwxr-xr-x    1 root     root          4096 May 16 11:33 etc\n",
      "drwxr-xr-x    2 root     root          4096 May  9 20:49 home\n",
      "drwxr-xr-x    5 root     root          4096 May  9 20:49 lib\n",
      "drwxr-xr-x    5 root     root          4096 May  9 20:49 media\n",
      "drwxr-xr-x    2 root     root          4096 May  9 20:49 mnt\n",
      "-rw-r--r--    1 root     root            11 May 16 11:38 newfile\n",
      "drwxr-xr-x    2 root     root          4096 May  9 20:49 opt\n",
      "dr-xr-xr-x  191 root     root             0 May 16 11:44 proc\n",
      "drwx------    1 root     root          4096 May 16 11:37 root\n",
      "drwxr-xr-x    2 root     root          4096 May  9 20:49 run\n",
      "drwxr-xr-x    2 root     root          4096 May  9 20:49 sbin\n",
      "drwxr-xr-x    2 root     root          4096 May  9 20:49 srv\n",
      "dr-xr-xr-x   13 root     root             0 May 16 11:44 sys\n",
      "drwxrwxrwt    2 root     root          4096 May  9 20:49 tmp\n",
      "drwxr-xr-x    7 root     root          4096 May  9 20:49 usr\n",
      "drwxr-xr-x   11 root     root          4096 May  9 20:49 var\n"
     ]
    }
   ],
   "source": [
    "!docker container exec 2e93d29284de ls -l"
   ]
  },
  {
   "cell_type": "code",
   "execution_count": 31,
   "metadata": {},
   "outputs": [
    {
     "name": "stdout",
     "output_type": "stream",
     "text": [
      "devops FTW\n"
     ]
    }
   ],
   "source": [
    "!docker container exec 2e93d29284de cat newfile"
   ]
  },
  {
   "cell_type": "code",
   "execution_count": 32,
   "metadata": {},
   "outputs": [],
   "source": [
    "# 运行容器不指定命令，就执行image中定义的默认命令，即\"Cmd\": [\"/bin/sh\"]，可以通过docker image inspect alpine查看\n",
    "\n",
    "# AppledeMacBook-Pro:psweb apple$ docker container run -it alpine\n",
    "# / # \n",
    "# / # \n",
    "# / # AppledeMacBook-Pro:psweb apple$ "
   ]
  },
  {
   "cell_type": "code",
   "execution_count": 33,
   "metadata": {},
   "outputs": [
    {
     "name": "stdout",
     "output_type": "stream",
     "text": [
      "[\n",
      "    {\n",
      "        \"Id\": \"sha256:055936d3920576da37aa9bc460d70c5f212028bda1c08c0879aedf03d7a66ea1\",\n",
      "        \"RepoTags\": [\n",
      "            \"alpine:latest\"\n",
      "        ],\n",
      "        \"RepoDigests\": [\n",
      "            \"alpine@sha256:769fddc7cc2f0a1c35abb2f91432e8beecf83916c421420e6a6da9f8975464b6\"\n",
      "        ],\n",
      "        \"Parent\": \"\",\n",
      "        \"Comment\": \"\",\n",
      "        \"Created\": \"2019-05-11T00:07:03.510395965Z\",\n",
      "        \"Container\": \"c10d36fa368a7ea673683682666758adf35efe98e10989505f4f566b5b18538f\",\n",
      "        \"ContainerConfig\": {\n",
      "            \"Hostname\": \"c10d36fa368a\",\n",
      "            \"Domainname\": \"\",\n",
      "            \"User\": \"\",\n",
      "            \"AttachStdin\": false,\n",
      "            \"AttachStdout\": false,\n",
      "            \"AttachStderr\": false,\n",
      "            \"Tty\": false,\n",
      "            \"OpenStdin\": false,\n",
      "            \"StdinOnce\": false,\n",
      "            \"Env\": [\n",
      "                \"PATH=/usr/local/sbin:/usr/local/bin:/usr/sbin:/usr/bin:/sbin:/bin\"\n",
      "            ],\n",
      "            \"Cmd\": [\n",
      "                \"/bin/sh\",\n",
      "                \"-c\",\n",
      "                \"#(nop) \",\n",
      "                \"CMD [\\\"/bin/sh\\\"]\"\n",
      "            ],\n",
      "            \"ArgsEscaped\": true,\n",
      "            \"Image\": \"sha256:09f2bbe58e774849d74dc1391c2e01731896c745c4aba1ecf69a283bdb4b537a\",\n",
      "            \"Volumes\": null,\n",
      "            \"WorkingDir\": \"\",\n",
      "            \"Entrypoint\": null,\n",
      "            \"OnBuild\": null,\n",
      "            \"Labels\": {}\n",
      "        },\n",
      "        \"DockerVersion\": \"18.06.1-ce\",\n",
      "        \"Author\": \"\",\n",
      "        \"Config\": {\n",
      "            \"Hostname\": \"\",\n",
      "            \"Domainname\": \"\",\n",
      "            \"User\": \"\",\n",
      "            \"AttachStdin\": false,\n",
      "            \"AttachStdout\": false,\n",
      "            \"AttachStderr\": false,\n",
      "            \"Tty\": false,\n",
      "            \"OpenStdin\": false,\n",
      "            \"StdinOnce\": false,\n",
      "            \"Env\": [\n",
      "                \"PATH=/usr/local/sbin:/usr/local/bin:/usr/sbin:/usr/bin:/sbin:/bin\"\n",
      "            ],\n",
      "            \"Cmd\": [\n",
      "                \"/bin/sh\"\n",
      "            ],\n",
      "            \"ArgsEscaped\": true,\n",
      "            \"Image\": \"sha256:09f2bbe58e774849d74dc1391c2e01731896c745c4aba1ecf69a283bdb4b537a\",\n",
      "            \"Volumes\": null,\n",
      "            \"WorkingDir\": \"\",\n",
      "            \"Entrypoint\": null,\n",
      "            \"OnBuild\": null,\n",
      "            \"Labels\": null\n",
      "        },\n",
      "        \"Architecture\": \"amd64\",\n",
      "        \"Os\": \"linux\",\n",
      "        \"Size\": 5533135,\n",
      "        \"VirtualSize\": 5533135,\n",
      "        \"GraphDriver\": {\n",
      "            \"Data\": {\n",
      "                \"MergedDir\": \"/var/lib/docker/overlay2/85c5d8c6fe28f8b9957b982527a7aee3bf58481b6e09f7205c5cca2007d9742b/merged\",\n",
      "                \"UpperDir\": \"/var/lib/docker/overlay2/85c5d8c6fe28f8b9957b982527a7aee3bf58481b6e09f7205c5cca2007d9742b/diff\",\n",
      "                \"WorkDir\": \"/var/lib/docker/overlay2/85c5d8c6fe28f8b9957b982527a7aee3bf58481b6e09f7205c5cca2007d9742b/work\"\n",
      "            },\n",
      "            \"Name\": \"overlay2\"\n",
      "        },\n",
      "        \"RootFS\": {\n",
      "            \"Type\": \"layers\",\n",
      "            \"Layers\": [\n",
      "                \"sha256:f1b5933fe4b5f49bbe8258745cf396afe07e625bdab3168e364daf7c956b6b81\"\n",
      "            ]\n",
      "        },\n",
      "        \"Metadata\": {\n",
      "            \"LastTagTime\": \"0001-01-01T00:00:00Z\"\n",
      "        }\n",
      "    }\n",
      "]\n"
     ]
    }
   ],
   "source": [
    "!docker image inspect alpine"
   ]
  },
  {
   "cell_type": "code",
   "execution_count": 34,
   "metadata": {},
   "outputs": [
    {
     "name": "stdout",
     "output_type": "stream",
     "text": [
      "2c2caf40083d17c6a2b92fc17b5a55523add940772beb05aac89330586af287f\n"
     ]
    }
   ],
   "source": [
    "!docker container run -d --name web1 -p 8080:8080 psweb"
   ]
  },
  {
   "cell_type": "code",
   "execution_count": 35,
   "metadata": {},
   "outputs": [
    {
     "name": "stdout",
     "output_type": "stream",
     "text": [
      "8080/tcp -> 0.0.0.0:8080\n"
     ]
    }
   ],
   "source": [
    "!docker port web1"
   ]
  }
 ],
 "metadata": {
  "kernelspec": {
   "display_name": "Python 3",
   "language": "python",
   "name": "python3"
  },
  "language_info": {
   "codemirror_mode": {
    "name": "ipython",
    "version": 3
   },
   "file_extension": ".py",
   "mimetype": "text/x-python",
   "name": "python",
   "nbconvert_exporter": "python",
   "pygments_lexer": "ipython3",
   "version": "3.7.3"
  }
 },
 "nbformat": 4,
 "nbformat_minor": 2
}
